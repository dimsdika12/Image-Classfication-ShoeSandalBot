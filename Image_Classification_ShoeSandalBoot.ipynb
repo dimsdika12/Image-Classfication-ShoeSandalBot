{
  "cells": [
    {
      "cell_type": "markdown",
      "metadata": {
        "id": "xcVVymxIQzaM"
      },
      "source": [
        "[data resourh](https://www.kaggle.com/datasets/hasibalmuzdadid/shoe-vs-sandal-vs-boot-dataset-15k-images) from Kaggle."
      ]
    },
    {
      "cell_type": "markdown",
      "metadata": {
        "id": "Fq9t_56TYLgi"
      },
      "source": [
        "Import Dataset"
      ]
    },
    {
      "cell_type": "code",
      "execution_count": 1,
      "metadata": {
        "id": "41AOsxOJGGKQ"
      },
      "outputs": [],
      "source": [
        "!mkdir ~/.kaggle\n",
        "!cp kaggle.json ~/.kaggle/\n",
        "!chmod 600 ~/.kaggle/kaggle.json"
      ]
    },
    {
      "cell_type": "code",
      "execution_count": 2,
      "metadata": {
        "colab": {
          "base_uri": "https://localhost:8080/"
        },
        "id": "f8Cc9baeY7-2",
        "outputId": "2d12420b-7aab-4c18-e219-43fe90bd7c5b"
      },
      "outputs": [
        {
          "output_type": "stream",
          "name": "stdout",
          "text": [
            "Downloading shoe-vs-sandal-vs-boot-dataset-15k-images.zip to /content\n",
            " 87% 41.0M/47.0M [00:00<00:00, 142MB/s]\n",
            "100% 47.0M/47.0M [00:00<00:00, 137MB/s]\n"
          ]
        }
      ],
      "source": [
        "!kaggle datasets download -d hasibalmuzdadid/shoe-vs-sandal-vs-boot-dataset-15k-images"
      ]
    },
    {
      "cell_type": "markdown",
      "metadata": {
        "id": "xzc2pn4-ZZf2"
      },
      "source": [
        "Unzip Dataset"
      ]
    },
    {
      "cell_type": "code",
      "execution_count": 3,
      "metadata": {
        "id": "oWzjr8bcZZP1"
      },
      "outputs": [],
      "source": [
        "# Extract the zip file\n",
        "import zipfile, os\n",
        "local_zip = '/content/shoe-vs-sandal-vs-boot-dataset-15k-images.zip'\n",
        "zip_ref = zipfile.ZipFile(local_zip, 'r')\n",
        "zip_ref.extractall('/content/tmp')\n",
        "zip_ref.close()"
      ]
    },
    {
      "cell_type": "markdown",
      "metadata": {
        "id": "PO-zqf93NXO5"
      },
      "source": [
        "Define the path for the dataset"
      ]
    },
    {
      "cell_type": "code",
      "execution_count": 4,
      "metadata": {
        "id": "re1eUfpWaRlN"
      },
      "outputs": [],
      "source": [
        "# Define the path for the dataset\n",
        "base_dir = '/content/tmp/Shoe vs Sandal vs Boot Dataset'\n",
        "train_dir = '/content/output/train'\n",
        "validation_dir = '/content/output/val'"
      ]
    },
    {
      "cell_type": "markdown",
      "metadata": {
        "id": "ARElWFhmbAwq"
      },
      "source": [
        "Split dataset"
      ]
    },
    {
      "cell_type": "code",
      "execution_count": 5,
      "metadata": {
        "colab": {
          "base_uri": "https://localhost:8080/"
        },
        "id": "2_POog-pbChY",
        "outputId": "64f4469a-ed00-4f9a-b88b-699257514d3c"
      },
      "outputs": [
        {
          "output_type": "stream",
          "name": "stdout",
          "text": [
            "Collecting split-folders\n",
            "  Downloading split_folders-0.5.1-py3-none-any.whl (8.4 kB)\n",
            "Installing collected packages: split-folders\n",
            "Successfully installed split-folders-0.5.1\n"
          ]
        },
        {
          "output_type": "stream",
          "name": "stderr",
          "text": [
            "Copying files: 15000 files [00:01, 8323.84 files/s]\n"
          ]
        }
      ],
      "source": [
        "# Install split-folders (if not already installed)\n",
        "!pip install split-folders\n",
        "\n",
        "# Split the dataset into the train and validation sets\n",
        "import splitfolders\n",
        "splitfolders.ratio(base_dir, output='output', seed=1337, ratio=(.8, .2), group_prefix=None)"
      ]
    },
    {
      "cell_type": "markdown",
      "metadata": {
        "id": "jYkzzT1xb45o"
      },
      "source": [
        "Import Library"
      ]
    },
    {
      "cell_type": "code",
      "execution_count": 6,
      "metadata": {
        "id": "U18WO89ub7Og"
      },
      "outputs": [],
      "source": [
        "import tensorflow as tf\n",
        "from tensorflow.keras.preprocessing.image import ImageDataGenerator\n",
        "from tensorflow.keras.applications import MobileNetV2\n",
        "from tensorflow.keras.layers import Input, Conv2D, MaxPooling2D, Flatten, Dropout, Dense\n",
        "from tensorflow.keras.models import Model\n",
        "from tensorflow.keras.callbacks import Callback\n",
        "import numpy as np\n",
        "import matplotlib.pyplot as plt"
      ]
    },
    {
      "cell_type": "markdown",
      "metadata": {
        "id": "dI5Zh3bcbPZ_"
      },
      "source": [
        "- Perform image augmentation.\n",
        "- Prepare training data and evaluation data.\n",
        "- Label datasets automatically."
      ]
    },
    {
      "cell_type": "code",
      "execution_count": 7,
      "metadata": {
        "id": "O040LPvlbgcZ",
        "colab": {
          "base_uri": "https://localhost:8080/"
        },
        "outputId": "a2c7e11a-2631-45f3-c849-a05ee9488f36"
      },
      "outputs": [
        {
          "output_type": "stream",
          "name": "stdout",
          "text": [
            "Found 12000 images belonging to 3 classes.\n",
            "Found 3000 images belonging to 3 classes.\n"
          ]
        }
      ],
      "source": [
        "train_datagen = ImageDataGenerator(\n",
        "    rescale=1.0/255,\n",
        "    rotation_range=30,\n",
        "    width_shift_range=0.2,\n",
        "    height_shift_range=0.2,\n",
        "    shear_range=0.2,\n",
        "    zoom_range=0.2,\n",
        "    vertical_flip=True,\n",
        "    fill_mode='nearest'\n",
        ")\n",
        "\n",
        "train_generator = train_datagen.flow_from_directory(train_dir,\n",
        "                                                    class_mode='categorical',\n",
        "                                                    target_size=(150, 150))\n",
        "\n",
        "validation_datagen = ImageDataGenerator(\n",
        "    rescale=1.0/255\n",
        ")\n",
        "validation_generator = validation_datagen.flow_from_directory(validation_dir,\n",
        "                                                        class_mode='categorical',\n",
        "                                                        target_size=(150, 150))"
      ]
    },
    {
      "cell_type": "markdown",
      "metadata": {
        "id": "QvCAxPn1caMA"
      },
      "source": [
        "Model"
      ]
    },
    {
      "cell_type": "code",
      "execution_count": 8,
      "metadata": {
        "colab": {
          "base_uri": "https://localhost:8080/"
        },
        "id": "c446PZ2fcf-A",
        "outputId": "f200e991-a924-4029-8168-b9d500ead0e5"
      },
      "outputs": [
        {
          "output_type": "stream",
          "name": "stderr",
          "text": [
            "WARNING:tensorflow:`input_shape` is undefined or non-square, or `rows` is not in [96, 128, 160, 192, 224]. Weights for input shape (224, 224) will be loaded as the default.\n"
          ]
        },
        {
          "output_type": "stream",
          "name": "stdout",
          "text": [
            "Downloading data from https://storage.googleapis.com/tensorflow/keras-applications/mobilenet_v2/mobilenet_v2_weights_tf_dim_ordering_tf_kernels_1.0_224_no_top.h5\n",
            "9406464/9406464 [==============================] - 0s 0us/step\n"
          ]
        }
      ],
      "source": [
        "# Uses pre-trained MobileNetV2 as the base model\n",
        "pre_trained_model = MobileNetV2(weights=\"imagenet\", include_top=False, input_tensor=Input(shape=(150, 150, 3)))\n",
        "\n",
        "for layer in pre_trained_model.layers:\n",
        "    layer.trainable = False\n",
        "\n",
        "# Takes the last output from the base model\n",
        "last_output = pre_trained_model.output\n",
        "\n",
        "# Added Conv2D and MaxPooling2D to existing models\n",
        "x = Conv2D(filters=32, kernel_size=(3, 3), activation='relu')(last_output)\n",
        "x = MaxPooling2D(pool_size=(2, 2))(x)\n",
        "x = Flatten(name=\"flatten\")(x)\n",
        "x = Dropout(0.3)(x)\n",
        "x = Dense(128, activation=\"relu\")(x)\n",
        "x = Dropout(0.2)(x)\n",
        "x = Dense(64, activation=\"relu\")(x)\n",
        "x = Dense(32, activation=\"relu\")(x)\n",
        "x = Dense(3, activation='softmax')(x)\n",
        "\n",
        "# Create a model with a combination of the MobileNetV2 base model and the newly added layers\n",
        "model = Model(pre_trained_model.input, x)"
      ]
    },
    {
      "cell_type": "code",
      "execution_count": 9,
      "metadata": {
        "colab": {
          "base_uri": "https://localhost:8080/"
        },
        "id": "ZMLm34YVgJCw",
        "outputId": "718b16aa-8692-41f5-cc0c-3a1e2ce044db"
      },
      "outputs": [
        {
          "output_type": "stream",
          "name": "stderr",
          "text": [
            "WARNING:absl:`lr` is deprecated in Keras optimizer, please use `learning_rate` or use the legacy optimizer, e.g.,tf.keras.optimizers.legacy.Adam.\n"
          ]
        }
      ],
      "source": [
        "int_lr = 0.0001\n",
        "num_epochs = 100\n",
        "\n",
        "optimizer = tf.optimizers.Adam(lr=int_lr)\n",
        "model.compile(optimizer=optimizer,\n",
        "              loss='categorical_crossentropy',\n",
        "              metrics=['accuracy'])"
      ]
    },
    {
      "cell_type": "markdown",
      "metadata": {
        "id": "cD2TtXIGcmNf"
      },
      "source": [
        "Train model"
      ]
    },
    {
      "cell_type": "code",
      "execution_count": 10,
      "metadata": {
        "id": "sLTfK6fqgNRl",
        "colab": {
          "base_uri": "https://localhost:8080/"
        },
        "outputId": "85adb3ac-cf82-4817-cb1a-1a21a6fe081f"
      },
      "outputs": [
        {
          "output_type": "stream",
          "name": "stdout",
          "text": [
            "Epoch 1/100\n",
            "375/375 - 97s - loss: 0.5662 - accuracy: 0.7723 - val_loss: 0.2218 - val_accuracy: 0.9200 - 97s/epoch - 257ms/step\n",
            "Epoch 2/100\n",
            "375/375 - 77s - loss: 0.4231 - accuracy: 0.8358 - val_loss: 0.3508 - val_accuracy: 0.8857 - 77s/epoch - 205ms/step\n",
            "Epoch 3/100\n",
            "375/375 - 74s - loss: 0.3790 - accuracy: 0.8556 - val_loss: 0.1886 - val_accuracy: 0.9370 - 74s/epoch - 198ms/step\n",
            "Epoch 4/100\n",
            "375/375 - 76s - loss: 0.3455 - accuracy: 0.8690 - val_loss: 0.1975 - val_accuracy: 0.9320 - 76s/epoch - 202ms/step\n",
            "Epoch 5/100\n",
            "375/375 - 75s - loss: 0.3270 - accuracy: 0.8733 - val_loss: 0.1741 - val_accuracy: 0.9407 - 75s/epoch - 199ms/step\n",
            "Epoch 6/100\n",
            "375/375 - 77s - loss: 0.3117 - accuracy: 0.8811 - val_loss: 0.1748 - val_accuracy: 0.9387 - 77s/epoch - 207ms/step\n",
            "Epoch 7/100\n",
            "375/375 - 76s - loss: 0.3104 - accuracy: 0.8795 - val_loss: 0.1550 - val_accuracy: 0.9530 - 76s/epoch - 204ms/step\n",
            "Epoch 8/100\n",
            "375/375 - 73s - loss: 0.2840 - accuracy: 0.8865 - val_loss: 0.1600 - val_accuracy: 0.9480 - 73s/epoch - 196ms/step\n",
            "Epoch 9/100\n",
            "375/375 - 74s - loss: 0.2888 - accuracy: 0.8839 - val_loss: 0.1632 - val_accuracy: 0.9447 - 74s/epoch - 197ms/step\n",
            "Epoch 10/100\n",
            "375/375 - 74s - loss: 0.2737 - accuracy: 0.8911 - val_loss: 0.1591 - val_accuracy: 0.9483 - 74s/epoch - 197ms/step\n",
            "Epoch 11/100\n",
            "375/375 - 77s - loss: 0.2722 - accuracy: 0.8907 - val_loss: 0.1821 - val_accuracy: 0.9317 - 77s/epoch - 204ms/step\n",
            "Epoch 12/100\n",
            "375/375 - 80s - loss: 0.2683 - accuracy: 0.8905 - val_loss: 0.1419 - val_accuracy: 0.9530 - 80s/epoch - 212ms/step\n",
            "Epoch 13/100\n",
            "375/375 - 75s - loss: 0.2638 - accuracy: 0.8878 - val_loss: 0.1684 - val_accuracy: 0.9440 - 75s/epoch - 199ms/step\n",
            "Epoch 14/100\n",
            "375/375 - 75s - loss: 0.2593 - accuracy: 0.8957 - val_loss: 0.1409 - val_accuracy: 0.9533 - 75s/epoch - 199ms/step\n",
            "Epoch 15/100\n",
            "375/375 - 74s - loss: 0.2566 - accuracy: 0.8938 - val_loss: 0.1455 - val_accuracy: 0.9603 - 74s/epoch - 198ms/step\n",
            "Epoch 16/100\n",
            "375/375 - 76s - loss: 0.2467 - accuracy: 0.9007 - val_loss: 0.1593 - val_accuracy: 0.9467 - 76s/epoch - 203ms/step\n",
            "Epoch 17/100\n",
            "375/375 - 75s - loss: 0.2451 - accuracy: 0.8981 - val_loss: 0.1319 - val_accuracy: 0.9533 - 75s/epoch - 199ms/step\n",
            "Epoch 18/100\n",
            "375/375 - 77s - loss: 0.2454 - accuracy: 0.8978 - val_loss: 0.1310 - val_accuracy: 0.9567 - 77s/epoch - 206ms/step\n",
            "Epoch 19/100\n",
            "375/375 - 76s - loss: 0.2512 - accuracy: 0.8963 - val_loss: 0.1301 - val_accuracy: 0.9590 - 76s/epoch - 202ms/step\n",
            "Epoch 20/100\n",
            "375/375 - 74s - loss: 0.2438 - accuracy: 0.8989 - val_loss: 0.1339 - val_accuracy: 0.9590 - 74s/epoch - 198ms/step\n",
            "Epoch 21/100\n",
            "375/375 - 74s - loss: 0.2472 - accuracy: 0.8992 - val_loss: 0.1265 - val_accuracy: 0.9553 - 74s/epoch - 197ms/step\n",
            "Epoch 22/100\n",
            "375/375 - 75s - loss: 0.2321 - accuracy: 0.9043 - val_loss: 0.1313 - val_accuracy: 0.9543 - 75s/epoch - 200ms/step\n",
            "Epoch 23/100\n",
            "375/375 - 74s - loss: 0.2296 - accuracy: 0.9057 - val_loss: 0.1301 - val_accuracy: 0.9537 - 74s/epoch - 198ms/step\n",
            "Epoch 24/100\n",
            "375/375 - 74s - loss: 0.2381 - accuracy: 0.9007 - val_loss: 0.1379 - val_accuracy: 0.9557 - 74s/epoch - 199ms/step\n",
            "Epoch 25/100\n",
            "375/375 - 77s - loss: 0.2352 - accuracy: 0.9025 - val_loss: 0.1310 - val_accuracy: 0.9590 - 77s/epoch - 205ms/step\n",
            "Epoch 26/100\n",
            "375/375 - 74s - loss: 0.2323 - accuracy: 0.9073 - val_loss: 0.1329 - val_accuracy: 0.9607 - 74s/epoch - 198ms/step\n",
            "Epoch 27/100\n",
            "375/375 - 74s - loss: 0.2309 - accuracy: 0.9039 - val_loss: 0.1214 - val_accuracy: 0.9613 - 74s/epoch - 198ms/step\n",
            "Epoch 28/100\n",
            "375/375 - 75s - loss: 0.2338 - accuracy: 0.9045 - val_loss: 0.1345 - val_accuracy: 0.9597 - 75s/epoch - 200ms/step\n",
            "Epoch 29/100\n",
            "375/375 - 75s - loss: 0.2250 - accuracy: 0.9019 - val_loss: 0.1182 - val_accuracy: 0.9610 - 75s/epoch - 199ms/step\n",
            "Epoch 30/100\n",
            "375/375 - 76s - loss: 0.2297 - accuracy: 0.9034 - val_loss: 0.1267 - val_accuracy: 0.9573 - 76s/epoch - 202ms/step\n",
            "Epoch 31/100\n",
            "375/375 - 75s - loss: 0.2230 - accuracy: 0.9037 - val_loss: 0.1284 - val_accuracy: 0.9560 - 75s/epoch - 200ms/step\n",
            "Epoch 32/100\n",
            "375/375 - 76s - loss: 0.2252 - accuracy: 0.9047 - val_loss: 0.1214 - val_accuracy: 0.9593 - 76s/epoch - 203ms/step\n",
            "Epoch 33/100\n",
            "375/375 - 75s - loss: 0.2204 - accuracy: 0.9084 - val_loss: 0.1187 - val_accuracy: 0.9610 - 75s/epoch - 200ms/step\n",
            "Epoch 34/100\n",
            "375/375 - 73s - loss: 0.2268 - accuracy: 0.9050 - val_loss: 0.1290 - val_accuracy: 0.9593 - 73s/epoch - 195ms/step\n",
            "Epoch 35/100\n",
            "375/375 - 78s - loss: 0.2219 - accuracy: 0.9029 - val_loss: 0.1173 - val_accuracy: 0.9623 - 78s/epoch - 207ms/step\n",
            "Epoch 36/100\n",
            "375/375 - 75s - loss: 0.2127 - accuracy: 0.9100 - val_loss: 0.1292 - val_accuracy: 0.9590 - 75s/epoch - 199ms/step\n",
            "Epoch 37/100\n",
            "375/375 - 74s - loss: 0.2141 - accuracy: 0.9072 - val_loss: 0.1310 - val_accuracy: 0.9613 - 74s/epoch - 197ms/step\n",
            "Epoch 38/100\n",
            "375/375 - 73s - loss: 0.2284 - accuracy: 0.9032 - val_loss: 0.1375 - val_accuracy: 0.9523 - 73s/epoch - 195ms/step\n",
            "Epoch 39/100\n",
            "375/375 - 76s - loss: 0.2212 - accuracy: 0.9086 - val_loss: 0.1204 - val_accuracy: 0.9623 - 76s/epoch - 203ms/step\n",
            "Epoch 40/100\n",
            "375/375 - 73s - loss: 0.2239 - accuracy: 0.9072 - val_loss: 0.1496 - val_accuracy: 0.9520 - 73s/epoch - 195ms/step\n",
            "Epoch 41/100\n",
            "375/375 - 74s - loss: 0.2142 - accuracy: 0.9097 - val_loss: 0.1223 - val_accuracy: 0.9620 - 74s/epoch - 198ms/step\n",
            "Epoch 42/100\n",
            "375/375 - 74s - loss: 0.2080 - accuracy: 0.9097 - val_loss: 0.1424 - val_accuracy: 0.9563 - 74s/epoch - 197ms/step\n",
            "Epoch 43/100\n",
            "375/375 - 76s - loss: 0.2045 - accuracy: 0.9149 - val_loss: 0.1300 - val_accuracy: 0.9637 - 76s/epoch - 202ms/step\n",
            "Epoch 44/100\n",
            "375/375 - 74s - loss: 0.2050 - accuracy: 0.9122 - val_loss: 0.1445 - val_accuracy: 0.9550 - 74s/epoch - 199ms/step\n",
            "Epoch 45/100\n",
            "375/375 - 76s - loss: 0.2105 - accuracy: 0.9129 - val_loss: 0.1272 - val_accuracy: 0.9620 - 76s/epoch - 202ms/step\n",
            "Epoch 46/100\n",
            "375/375 - 76s - loss: 0.2051 - accuracy: 0.9131 - val_loss: 0.1389 - val_accuracy: 0.9537 - 76s/epoch - 201ms/step\n",
            "Epoch 47/100\n",
            "375/375 - 77s - loss: 0.2021 - accuracy: 0.9118 - val_loss: 0.1181 - val_accuracy: 0.9650 - 77s/epoch - 206ms/step\n",
            "Epoch 48/100\n",
            "375/375 - 73s - loss: 0.2051 - accuracy: 0.9144 - val_loss: 0.1403 - val_accuracy: 0.9577 - 73s/epoch - 193ms/step\n",
            "Epoch 49/100\n",
            "375/375 - 74s - loss: 0.2001 - accuracy: 0.9099 - val_loss: 0.1213 - val_accuracy: 0.9623 - 74s/epoch - 198ms/step\n",
            "Epoch 50/100\n",
            "375/375 - 76s - loss: 0.2060 - accuracy: 0.9134 - val_loss: 0.1179 - val_accuracy: 0.9617 - 76s/epoch - 201ms/step\n",
            "Epoch 51/100\n",
            "375/375 - 73s - loss: 0.2030 - accuracy: 0.9149 - val_loss: 0.1229 - val_accuracy: 0.9600 - 73s/epoch - 194ms/step\n",
            "Epoch 52/100\n",
            "375/375 - 74s - loss: 0.2004 - accuracy: 0.9133 - val_loss: 0.1182 - val_accuracy: 0.9640 - 74s/epoch - 199ms/step\n",
            "Epoch 53/100\n",
            "375/375 - 75s - loss: 0.2092 - accuracy: 0.9113 - val_loss: 0.1181 - val_accuracy: 0.9663 - 75s/epoch - 200ms/step\n",
            "Epoch 54/100\n",
            "375/375 - 75s - loss: 0.2064 - accuracy: 0.9136 - val_loss: 0.1213 - val_accuracy: 0.9603 - 75s/epoch - 201ms/step\n",
            "Epoch 55/100\n",
            "375/375 - 74s - loss: 0.2080 - accuracy: 0.9131 - val_loss: 0.1177 - val_accuracy: 0.9627 - 74s/epoch - 196ms/step\n",
            "Epoch 56/100\n",
            "375/375 - 74s - loss: 0.2035 - accuracy: 0.9143 - val_loss: 0.1227 - val_accuracy: 0.9617 - 74s/epoch - 198ms/step\n",
            "Epoch 57/100\n",
            "375/375 - 73s - loss: 0.1998 - accuracy: 0.9119 - val_loss: 0.1376 - val_accuracy: 0.9633 - 73s/epoch - 194ms/step\n",
            "Epoch 58/100\n",
            "375/375 - 74s - loss: 0.2028 - accuracy: 0.9137 - val_loss: 0.1199 - val_accuracy: 0.9640 - 74s/epoch - 197ms/step\n",
            "Epoch 59/100\n",
            "375/375 - 73s - loss: 0.2070 - accuracy: 0.9121 - val_loss: 0.1333 - val_accuracy: 0.9613 - 73s/epoch - 196ms/step\n",
            "Epoch 60/100\n",
            "375/375 - 74s - loss: 0.2044 - accuracy: 0.9133 - val_loss: 0.1183 - val_accuracy: 0.9600 - 74s/epoch - 197ms/step\n",
            "Epoch 61/100\n",
            "375/375 - 75s - loss: 0.2011 - accuracy: 0.9131 - val_loss: 0.1092 - val_accuracy: 0.9623 - 75s/epoch - 199ms/step\n",
            "Epoch 62/100\n",
            "375/375 - 78s - loss: 0.1918 - accuracy: 0.9189 - val_loss: 0.1178 - val_accuracy: 0.9623 - 78s/epoch - 207ms/step\n",
            "Epoch 63/100\n",
            "375/375 - 74s - loss: 0.1979 - accuracy: 0.9174 - val_loss: 0.1179 - val_accuracy: 0.9660 - 74s/epoch - 198ms/step\n",
            "Epoch 64/100\n",
            "375/375 - 75s - loss: 0.1968 - accuracy: 0.9147 - val_loss: 0.1241 - val_accuracy: 0.9640 - 75s/epoch - 199ms/step\n",
            "Epoch 65/100\n",
            "375/375 - 72s - loss: 0.2003 - accuracy: 0.9144 - val_loss: 0.1213 - val_accuracy: 0.9650 - 72s/epoch - 193ms/step\n",
            "Epoch 66/100\n",
            "375/375 - 74s - loss: 0.1963 - accuracy: 0.9153 - val_loss: 0.1178 - val_accuracy: 0.9630 - 74s/epoch - 197ms/step\n",
            "Epoch 67/100\n",
            "375/375 - 73s - loss: 0.1925 - accuracy: 0.9168 - val_loss: 0.1133 - val_accuracy: 0.9637 - 73s/epoch - 193ms/step\n",
            "Epoch 68/100\n",
            "375/375 - 77s - loss: 0.1934 - accuracy: 0.9171 - val_loss: 0.1200 - val_accuracy: 0.9617 - 77s/epoch - 206ms/step\n",
            "Epoch 69/100\n",
            "375/375 - 76s - loss: 0.1916 - accuracy: 0.9186 - val_loss: 0.1169 - val_accuracy: 0.9617 - 76s/epoch - 203ms/step\n",
            "Epoch 70/100\n",
            "375/375 - 76s - loss: 0.1998 - accuracy: 0.9150 - val_loss: 0.1176 - val_accuracy: 0.9593 - 76s/epoch - 202ms/step\n",
            "Epoch 71/100\n",
            "\n",
            "Reached minimum accuracy of 92% on both training and validation sets!\n",
            "375/375 - 75s - loss: 0.1860 - accuracy: 0.9200 - val_loss: 0.1133 - val_accuracy: 0.9643 - 75s/epoch - 200ms/step\n"
          ]
        }
      ],
      "source": [
        "class MinimumAccuracyCallback(Callback):\n",
        "    def on_epoch_end(self, epoch, logs={}):\n",
        "      if(logs.get('accuracy')>0.92 and logs.get('val_accuracy')>0.92):\n",
        "        print(\"\\nReached minimum accuracy of 92% on both training and validation sets!\")\n",
        "        self.model.stop_training = True\n",
        "callback = MinimumAccuracyCallback()\n",
        "history = model.fit(train_generator,\n",
        "              epochs=num_epochs,\n",
        "              validation_data=validation_generator,verbose=2,callbacks=[callback])"
      ]
    },
    {
      "cell_type": "markdown",
      "metadata": {
        "id": "pmu3cmdyl1fG"
      },
      "source": [
        "Make plots of model accuracy and loss."
      ]
    },
    {
      "cell_type": "code",
      "execution_count": 11,
      "metadata": {
        "id": "qAB4bUjel-jQ",
        "colab": {
          "base_uri": "https://localhost:8080/",
          "height": 472
        },
        "outputId": "28ddc2fa-2ea3-4dc1-eba4-2784d105bbdf"
      },
      "outputs": [
        {
          "output_type": "display_data",
          "data": {
            "text/plain": [
              "<Figure size 640x480 with 1 Axes>"
            ],
            "image/png": "[encoded data removed]"
          },
          "metadata": {}
        }
      ],
      "source": [
        "plt.plot(history.history['accuracy'])\n",
        "plt.plot(history.history['val_accuracy'])\n",
        "plt.title('Model Accuracy')\n",
        "plt.ylabel('accuracy')\n",
        "plt.xlabel('epoch')\n",
        "plt.legend(['train', 'test'], loc='upper left')\n",
        "plt.show()"
      ]
    },
    {
      "cell_type": "code",
      "execution_count": 12,
      "metadata": {
        "id": "twNCgD43svNy",
        "colab": {
          "base_uri": "https://localhost:8080/",
          "height": 472
        },
        "outputId": "7125ce27-105d-4058-9f95-39b24e1fa7b3"
      },
      "outputs": [
        {
          "output_type": "display_data",
          "data": {
            "text/plain": [
              "<Figure size 640x480 with 1 Axes>"
            ],
            "image/png": "[encoded data removed]"
          },
          "metadata": {}
        }
      ],
      "source": [
        "plt.plot(history.history['loss'])\n",
        "plt.plot(history.history['val_loss'])\n",
        "plt.title('Loss Model')\n",
        "plt.ylabel('loss')\n",
        "plt.xlabel('epoch')\n",
        "plt.legend(['train', 'test'], loc='upper right')\n",
        "plt.show()"
      ]
    },
    {
      "cell_type": "markdown",
      "metadata": {
        "id": "BYJWnCNJjLXb"
      },
      "source": [
        "Save the model into TF-Lite format"
      ]
    },
    {
      "cell_type": "code",
      "execution_count": 14,
      "metadata": {
        "id": "8xMInm7788vO",
        "colab": {
          "base_uri": "https://localhost:8080/"
        },
        "outputId": "2bbc17ad-ecf8-4156-bbaf-6ac7e3de0123"
      },
      "outputs": [
        {
          "output_type": "execute_result",
          "data": {
            "text/plain": [
              "10392912"
            ]
          },
          "metadata": {},
          "execution_count": 14
        }
      ],
      "source": [
        "import pathlib\n",
        "# Save the model in SavedModel format\n",
        "export_dir = 'saved_model/'\n",
        "tf.saved_model.save(model, export_dir)\n",
        "\n",
        "# Convert SavedModel menjadi shoesandalboot.tflite\n",
        "converter = tf.lite.TFLiteConverter.from_saved_model(export_dir)\n",
        "tflite_model = converter.convert()\n",
        "\n",
        "tflite_model_file = pathlib.Path('shoesandalboot.tflite')\n",
        "tflite_model_file.write_bytes(tflite_model)"
      ]
    }
  ],
  "metadata": {
    "accelerator": "GPU",
    "colab": {
      "provenance": []
    },
    "kernelspec": {
      "display_name": "Python 3",
      "name": "python3"
    },
    "language_info": {
      "name": "python"
    }
  },
  "nbformat": 4,
  "nbformat_minor": 0
}